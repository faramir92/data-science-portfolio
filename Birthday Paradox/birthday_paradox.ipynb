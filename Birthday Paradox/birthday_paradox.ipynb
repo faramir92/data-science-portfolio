{
 "cells": [
  {
   "cell_type": "markdown",
   "metadata": {},
   "source": [
    "# Proving the Birthday Paradox with 2016 Olympics Athletes"
   ]
  },
  {
   "cell_type": "code",
   "execution_count": 1,
   "metadata": {},
   "outputs": [
    {
     "name": "stdout",
     "output_type": "stream",
     "text": [
      "The history saving thread hit an unexpected error (DatabaseError('database disk image is malformed')).History will not be written to the database.\n"
     ]
    }
   ],
   "source": [
    "# import packages\n",
    "import pandas as pd\n",
    "import warnings\n",
    "warnings.filterwarnings(\"ignore\")"
   ]
  },
  {
   "cell_type": "markdown",
   "metadata": {},
   "source": [
    "#### 1) Load the dataset"
   ]
  },
  {
   "cell_type": "code",
   "execution_count": 3,
   "metadata": {},
   "outputs": [],
   "source": [
    "athletes = pd.read_csv('athletes.csv')"
   ]
  },
  {
   "cell_type": "markdown",
   "metadata": {},
   "source": [
    "a) Convert the column dob (date of birthday) to the correct date data type."
   ]
  },
  {
   "cell_type": "code",
   "execution_count": 4,
   "metadata": {},
   "outputs": [],
   "source": [
    "athletes['birthday'] = pd.to_datetime(athletes['dob'], format='%m/%d/%y', errors='ignore')\n",
    "athletes = athletes[~athletes['birthday'].isnull()]"
   ]
  },
  {
   "cell_type": "markdown",
   "metadata": {},
   "source": [
    "#### 2) Build a function called sample() that receives a number representing the sample size and returns the sample dataset."
   ]
  },
  {
   "cell_type": "code",
   "execution_count": 5,
   "metadata": {},
   "outputs": [],
   "source": [
    "def sample(sample_size):\n",
    "    return athletes.sample(sample_size).reset_index()"
   ]
  },
  {
   "cell_type": "markdown",
   "metadata": {},
   "source": [
    "#### 3) Build a function called isSameMonthDay() that receives two birth dates and compare of them have the same day and month or not."
   ]
  },
  {
   "cell_type": "code",
   "execution_count": 6,
   "metadata": {},
   "outputs": [],
   "source": [
    "def isSameMonthDay(date1, date2):\n",
    "    if str(date1.month) + '-' + str(date1.day) == str(date2.month) + '-' + str(date2.day):\n",
    "        return True\n",
    "    else:\n",
    "        return False"
   ]
  },
  {
   "cell_type": "markdown",
   "metadata": {},
   "source": [
    "#### 4) Build a function called oneRound() that receives a sample dataset, combines every possible pairs and returns True if at least one of the pair of athletes share the same day and month of birth."
   ]
  },
  {
   "cell_type": "code",
   "execution_count": 11,
   "metadata": {},
   "outputs": [],
   "source": [
    "def oneRound(df_sample):\n",
    "    match_count = 0\n",
    "    for i in range(len(df_sample)):\n",
    "        for j in range(len(df_sample)):\n",
    "            if i != j:\n",
    "                if isSameMonthDay (df_sample.iloc[i].birthday, df_sample.iloc[j].birthday):\n",
    "                    match_count = match_count + 1\n",
    "    if match_count > 0:\n",
    "        return True\n",
    "    else:\n",
    "        return False"
   ]
  },
  {
   "cell_type": "markdown",
   "metadata": {},
   "source": [
    "#### 5) Build a function called trial() that receives the number of trials and sample size, iterate over the number of trials sampling (sample), comparing(oneRound and isSameMonthDay) and print the percentage of times that we find shared birthdates."
   ]
  },
  {
   "cell_type": "code",
   "execution_count": 8,
   "metadata": {},
   "outputs": [],
   "source": [
    "def trial(number_of_trials, sample_size):\n",
    "    count = 0\n",
    "    \n",
    "    for i in range(number_of_trials):\n",
    "        df = sample(sample_size)\n",
    "        if oneRound(df):\n",
    "            count = count + 1\n",
    "            \n",
    "    print('With sample size of {} in {} trials the occurred shared birthdates {}% of times'.format(sample_size, number_of_trials, count/number_of_trials*100) )"
   ]
  },
  {
   "cell_type": "markdown",
   "metadata": {},
   "source": [
    "#### 6) Run the trial function with 100 trials and:"
   ]
  },
  {
   "cell_type": "markdown",
   "metadata": {},
   "source": [
    "a) sample size of 23. You should expect to find shared birthdates 50% of the times."
   ]
  },
  {
   "cell_type": "code",
   "execution_count": 12,
   "metadata": {},
   "outputs": [
    {
     "name": "stdout",
     "output_type": "stream",
     "text": [
      "With sample size of 23 in 100 trials the occurred shared birthdates 55.00000000000001% of times\n"
     ]
    }
   ],
   "source": [
    "trial(100, 23)"
   ]
  },
  {
   "cell_type": "markdown",
   "metadata": {},
   "source": [
    "b) sample size of 30. You should expect to find shared birthdates 70% of the times."
   ]
  },
  {
   "cell_type": "code",
   "execution_count": 13,
   "metadata": {},
   "outputs": [
    {
     "name": "stdout",
     "output_type": "stream",
     "text": [
      "With sample size of 30 in 100 trials the occurred shared birthdates 72.0% of times\n"
     ]
    }
   ],
   "source": [
    "trial(100, 30)"
   ]
  },
  {
   "cell_type": "markdown",
   "metadata": {},
   "source": [
    "c) sample size of 40. You should expect to find shared birthdates 89% of the times."
   ]
  },
  {
   "cell_type": "code",
   "execution_count": 14,
   "metadata": {},
   "outputs": [
    {
     "name": "stdout",
     "output_type": "stream",
     "text": [
      "With sample size of 40 in 100 trials the occurred shared birthdates 89.0% of times\n"
     ]
    }
   ],
   "source": [
    "trial(100, 40)"
   ]
  },
  {
   "cell_type": "markdown",
   "metadata": {},
   "source": [
    "d) sample size of 50. You should expect to find shared birthdates 97% of the times."
   ]
  },
  {
   "cell_type": "code",
   "execution_count": 15,
   "metadata": {},
   "outputs": [
    {
     "name": "stdout",
     "output_type": "stream",
     "text": [
      "With sample size of 50 in 100 trials the occurred shared birthdates 96.0% of times\n"
     ]
    }
   ],
   "source": [
    "trial(100, 50)"
   ]
  },
  {
   "cell_type": "markdown",
   "metadata": {},
   "source": [
    "e) sample size of 60. You should expect to find shared birthdates 99% of the times."
   ]
  },
  {
   "cell_type": "code",
   "execution_count": 16,
   "metadata": {},
   "outputs": [
    {
     "name": "stdout",
     "output_type": "stream",
     "text": [
      "With sample size of 60 in 100 trials the occurred shared birthdates 100.0% of times\n"
     ]
    }
   ],
   "source": [
    "trial(100, 60)"
   ]
  },
  {
   "cell_type": "code",
   "execution_count": null,
   "metadata": {
    "collapsed": true,
    "jupyter": {
     "outputs_hidden": true
    }
   },
   "outputs": [],
   "source": []
  }
 ],
 "metadata": {
  "kernelspec": {
   "display_name": "Python 3",
   "language": "python",
   "name": "python3"
  },
  "language_info": {
   "codemirror_mode": {
    "name": "ipython",
    "version": 3
   },
   "file_extension": ".py",
   "mimetype": "text/x-python",
   "name": "python",
   "nbconvert_exporter": "python",
   "pygments_lexer": "ipython3",
   "version": "3.8.8"
  }
 },
 "nbformat": 4,
 "nbformat_minor": 4
}
