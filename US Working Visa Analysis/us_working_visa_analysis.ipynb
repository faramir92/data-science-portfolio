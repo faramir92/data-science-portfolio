{
 "cells": [
  {
   "cell_type": "markdown",
   "metadata": {},
   "source": [
    "# US Working Visa Analysis"
   ]
  },
  {
   "cell_type": "markdown",
   "metadata": {},
   "source": [
    "We are Data Scientists conducting a research of how US companies hire and apply for working visa for foreign workers. Our objective is to find interesting patterns in given data. \n",
    "\n",
    "We have been supplied with three real datasets:\n",
    " - The result of 2016 applications for H1B visas;\n",
    " - NAICS codes;\n",
    " - US States;\n",
    "\n",
    "Our analysis must be able to address the following questions:\n",
    "\n",
    "1. What are the top 10 occupations for H1B visas with certified status?\n",
    "2. Which company hires more data scientists? \n",
    "3. What is the average salary for data scientists? How it is compared to the mean of applications?\n",
    "4. Which state has the higher deny proportionally to application. And proportionally to the population?\n",
    "5. What industries are in the top 5 percentile of applications?\n",
    "6. Does the month of the application play any role in to denied process? What about decision dates?"
   ]
  },
  {
   "cell_type": "markdown",
   "metadata": {},
   "source": [
    "### Solution"
   ]
  },
  {
   "cell_type": "code",
   "execution_count": 1,
   "metadata": {},
   "outputs": [],
   "source": [
    "# Import packages needed to perform the analysis\n",
    "import pandas as pd\n",
    "import numpy as np\n",
    "import matplotlib.pyplot as plt\n",
    "import seaborn as sns\n",
    "%matplotlib inline\n",
    "import warnings\n",
    "warnings.filterwarnings('ignore')"
   ]
  },
  {
   "cell_type": "code",
   "execution_count": 2,
   "metadata": {
    "jupyter": {
     "outputs_hidden": false
    }
   },
   "outputs": [],
   "source": [
    "# Read the H1B visas dataset\n",
    "visas = pd.read_csv('H-1B disclosure data.csv', encoding = 'latin1')"
   ]
  },
  {
   "cell_type": "code",
   "execution_count": 3,
   "metadata": {
    "jupyter": {
     "outputs_hidden": false
    }
   },
   "outputs": [
    {
     "data": {
      "text/html": [
       "<div>\n",
       "<style scoped>\n",
       "    .dataframe tbody tr th:only-of-type {\n",
       "        vertical-align: middle;\n",
       "    }\n",
       "\n",
       "    .dataframe tbody tr th {\n",
       "        vertical-align: top;\n",
       "    }\n",
       "\n",
       "    .dataframe thead th {\n",
       "        text-align: right;\n",
       "    }\n",
       "</style>\n",
       "<table border=\"1\" class=\"dataframe\">\n",
       "  <thead>\n",
       "    <tr style=\"text-align: right;\">\n",
       "      <th></th>\n",
       "      <th>CASE_NUMBER</th>\n",
       "      <th>CASE_STATUS</th>\n",
       "      <th>CASE_SUBMITTED</th>\n",
       "      <th>DECISION_DATE</th>\n",
       "      <th>VISA_CLASS</th>\n",
       "      <th>EMPLOYMENT_START_DATE</th>\n",
       "      <th>EMPLOYMENT_END_DATE</th>\n",
       "      <th>EMPLOYER_NAME</th>\n",
       "      <th>EMPLOYER_STATE</th>\n",
       "      <th>EMPLOYER_POSTAL_CODE</th>\n",
       "      <th>JOB_TITLE</th>\n",
       "      <th>SOC_CODE</th>\n",
       "      <th>SOC_NAME</th>\n",
       "      <th>NAICS_CODE</th>\n",
       "      <th>PREVAILING_WAGE</th>\n",
       "    </tr>\n",
       "  </thead>\n",
       "  <tbody>\n",
       "    <tr>\n",
       "      <th>0</th>\n",
       "      <td>I-200-09209-039181</td>\n",
       "      <td>CERTIFIED</td>\n",
       "      <td>27-09-16</td>\n",
       "      <td>03-10-16</td>\n",
       "      <td>H-1B</td>\n",
       "      <td>01-10-16</td>\n",
       "      <td>20-09-19</td>\n",
       "      <td>CLOUDWICK TECHNOLOGIES INC.</td>\n",
       "      <td>CA</td>\n",
       "      <td>94560</td>\n",
       "      <td>HADOOP ADMINISTRATOR</td>\n",
       "      <td>15-1132</td>\n",
       "      <td>SOFTWARE DEVELOPERS, APPLICATIONS</td>\n",
       "      <td>541511</td>\n",
       "      <td>102149</td>\n",
       "    </tr>\n",
       "    <tr>\n",
       "      <th>1</th>\n",
       "      <td>I-200-10138-949973</td>\n",
       "      <td>CERTIFIED-WITHDRAWN</td>\n",
       "      <td>11-03-16</td>\n",
       "      <td>28-11-16</td>\n",
       "      <td>H-1B</td>\n",
       "      <td>07-09-16</td>\n",
       "      <td>06-09-19</td>\n",
       "      <td>WEST-CAMP PRESS, INC.</td>\n",
       "      <td>OH</td>\n",
       "      <td>43081</td>\n",
       "      <td>STAFF ACCOUNTANT</td>\n",
       "      <td>13-2011</td>\n",
       "      <td>ACCOUNTANTS AND AUDITORS</td>\n",
       "      <td>323119</td>\n",
       "      <td>45698</td>\n",
       "    </tr>\n",
       "    <tr>\n",
       "      <th>2</th>\n",
       "      <td>I-200-11045-306092</td>\n",
       "      <td>WITHDRAWN</td>\n",
       "      <td>05-12-16</td>\n",
       "      <td>05-12-16</td>\n",
       "      <td>H-1B</td>\n",
       "      <td>12-12-16</td>\n",
       "      <td>30-06-19</td>\n",
       "      <td>FUTURETECH CONSULTANTS, L.L.C</td>\n",
       "      <td>GA</td>\n",
       "      <td>30092</td>\n",
       "      <td>PROGRAMMER ANALYST</td>\n",
       "      <td>15-1131</td>\n",
       "      <td>COMPUTER PROGRAMMERS</td>\n",
       "      <td>541511</td>\n",
       "      <td>60341</td>\n",
       "    </tr>\n",
       "    <tr>\n",
       "      <th>3</th>\n",
       "      <td>I-200-11080-460161</td>\n",
       "      <td>CERTIFIED-WITHDRAWN</td>\n",
       "      <td>03-02-15</td>\n",
       "      <td>31-10-16</td>\n",
       "      <td>H-1B</td>\n",
       "      <td>09-02-15</td>\n",
       "      <td>08-02-18</td>\n",
       "      <td>CONOCOPHILLIPS COMPANY</td>\n",
       "      <td>TX</td>\n",
       "      <td>77079</td>\n",
       "      <td>PETROPHYSICIST</td>\n",
       "      <td>19-4041</td>\n",
       "      <td>GEOLOGICAL AND PETROLEUM TECHNICIANS</td>\n",
       "      <td>324110</td>\n",
       "      <td>65520</td>\n",
       "    </tr>\n",
       "    <tr>\n",
       "      <th>4</th>\n",
       "      <td>I-200-12047-839355</td>\n",
       "      <td>CERTIFIED-WITHDRAWN</td>\n",
       "      <td>27-02-15</td>\n",
       "      <td>07-10-16</td>\n",
       "      <td>H-1B</td>\n",
       "      <td>29-08-15</td>\n",
       "      <td>28-08-18</td>\n",
       "      <td>SUNERA TECHNOLOGIES, INC</td>\n",
       "      <td>MI</td>\n",
       "      <td>48083</td>\n",
       "      <td>PROGRAMMER ANALYST</td>\n",
       "      <td>15-1131</td>\n",
       "      <td>COMPUTER PROGRAMMERS</td>\n",
       "      <td>5415</td>\n",
       "      <td>68578</td>\n",
       "    </tr>\n",
       "  </tbody>\n",
       "</table>\n",
       "</div>"
      ],
      "text/plain": [
       "          CASE_NUMBER          CASE_STATUS CASE_SUBMITTED DECISION_DATE  \\\n",
       "0  I-200-09209-039181            CERTIFIED       27-09-16      03-10-16   \n",
       "1  I-200-10138-949973  CERTIFIED-WITHDRAWN       11-03-16      28-11-16   \n",
       "2  I-200-11045-306092            WITHDRAWN       05-12-16      05-12-16   \n",
       "3  I-200-11080-460161  CERTIFIED-WITHDRAWN       03-02-15      31-10-16   \n",
       "4  I-200-12047-839355  CERTIFIED-WITHDRAWN       27-02-15      07-10-16   \n",
       "\n",
       "  VISA_CLASS EMPLOYMENT_START_DATE EMPLOYMENT_END_DATE  \\\n",
       "0       H-1B              01-10-16            20-09-19   \n",
       "1       H-1B              07-09-16            06-09-19   \n",
       "2       H-1B              12-12-16            30-06-19   \n",
       "3       H-1B              09-02-15            08-02-18   \n",
       "4       H-1B              29-08-15            28-08-18   \n",
       "\n",
       "                   EMPLOYER_NAME EMPLOYER_STATE EMPLOYER_POSTAL_CODE  \\\n",
       "0    CLOUDWICK TECHNOLOGIES INC.             CA                94560   \n",
       "1          WEST-CAMP PRESS, INC.             OH                43081   \n",
       "2  FUTURETECH CONSULTANTS, L.L.C             GA                30092   \n",
       "3         CONOCOPHILLIPS COMPANY             TX                77079   \n",
       "4       SUNERA TECHNOLOGIES, INC             MI                48083   \n",
       "\n",
       "              JOB_TITLE SOC_CODE                              SOC_NAME  \\\n",
       "0  HADOOP ADMINISTRATOR  15-1132     SOFTWARE DEVELOPERS, APPLICATIONS   \n",
       "1      STAFF ACCOUNTANT  13-2011              ACCOUNTANTS AND AUDITORS   \n",
       "2    PROGRAMMER ANALYST  15-1131                  COMPUTER PROGRAMMERS   \n",
       "3        PETROPHYSICIST  19-4041  GEOLOGICAL AND PETROLEUM TECHNICIANS   \n",
       "4    PROGRAMMER ANALYST  15-1131                  COMPUTER PROGRAMMERS   \n",
       "\n",
       "   NAICS_CODE  PREVAILING_WAGE  \n",
       "0      541511           102149  \n",
       "1      323119            45698  \n",
       "2      541511            60341  \n",
       "3      324110            65520  \n",
       "4        5415            68578  "
      ]
     },
     "execution_count": 3,
     "metadata": {},
     "output_type": "execute_result"
    }
   ],
   "source": [
    "# Explore the dataset\n",
    "visas.head()"
   ]
  },
  {
   "cell_type": "markdown",
   "metadata": {},
   "source": [
    "### Question 1 - What are the top 10 occupations for H1B visas with certified status?"
   ]
  },
  {
   "cell_type": "code",
   "execution_count": 4,
   "metadata": {
    "jupyter": {
     "outputs_hidden": false
    }
   },
   "outputs": [
    {
     "data": {
      "text/plain": [
       "array(['CERTIFIED', 'CERTIFIED-WITHDRAWN', 'WITHDRAWN', 'DENIED'],\n",
       "      dtype=object)"
      ]
     },
     "execution_count": 4,
     "metadata": {},
     "output_type": "execute_result"
    }
   ],
   "source": [
    "# Investigate the levels of the categorical variable STATUS\n",
    "visas.CASE_STATUS.unique()"
   ]
  },
  {
   "cell_type": "code",
   "execution_count": 5,
   "metadata": {
    "jupyter": {
     "outputs_hidden": false
    }
   },
   "outputs": [
    {
     "data": {
      "text/plain": [
       "93533"
      ]
     },
     "execution_count": 5,
     "metadata": {},
     "output_type": "execute_result"
    }
   ],
   "source": [
    "# Investigate the number of cases in the visas dataset\n",
    "visas.CASE_NUMBER.count()"
   ]
  },
  {
   "cell_type": "code",
   "execution_count": 6,
   "metadata": {
    "jupyter": {
     "outputs_hidden": false
    }
   },
   "outputs": [],
   "source": [
    "# Subset just the certifieds STSTUS ('CERTIFIED' and 'CERTIFIED-WITHDRAWN')\n",
    "certified_visas = visas[(visas.CASE_STATUS == 'CERTIFIED') | (visas.CASE_STATUS == 'CERTIFIED-WITHDRAWN')]"
   ]
  },
  {
   "cell_type": "code",
   "execution_count": 7,
   "metadata": {
    "jupyter": {
     "outputs_hidden": false
    }
   },
   "outputs": [
    {
     "data": {
      "text/plain": [
       "88974"
      ]
     },
     "execution_count": 7,
     "metadata": {},
     "output_type": "execute_result"
    }
   ],
   "source": [
    "# Investigate the number of cases in the certified_visas dataset\n",
    "certified_visas.CASE_NUMBER.count()"
   ]
  },
  {
   "cell_type": "code",
   "execution_count": 8,
   "metadata": {
    "jupyter": {
     "outputs_hidden": false
    }
   },
   "outputs": [
    {
     "data": {
      "text/plain": [
       "491"
      ]
     },
     "execution_count": 8,
     "metadata": {},
     "output_type": "execute_result"
    }
   ],
   "source": [
    "# Investigate the number of different occupation\n",
    "len(certified_visas.SOC_NAME.unique())"
   ]
  },
  {
   "cell_type": "code",
   "execution_count": 9,
   "metadata": {
    "jupyter": {
     "outputs_hidden": false
    }
   },
   "outputs": [],
   "source": [
    "# Subset, Group, sum and sort in one single line\n",
    "cert_visas_grp_occ = certified_visas[['SOC_CODE','SOC_NAME']].groupby('SOC_NAME').agg('count').sort_values(by='SOC_CODE', ascending=False)\n",
    "\n",
    "# Alternatively, Group, sum and sort in three steps\n",
    "cert_visas_grp_occ_1 = certified_visas[['SOC_CODE','SOC_NAME']]\n",
    "cert_visas_grp_occ_2 = cert_visas_grp_occ_1.groupby('SOC_NAME').agg('count')\n",
    "cert_visas_grp_occ_3 = cert_visas_grp_occ_2.sort_values(by='SOC_CODE', ascending=False)"
   ]
  },
  {
   "cell_type": "code",
   "execution_count": 10,
   "metadata": {
    "jupyter": {
     "outputs_hidden": false
    }
   },
   "outputs": [
    {
     "data": {
      "text/html": [
       "<div>\n",
       "<style scoped>\n",
       "    .dataframe tbody tr th:only-of-type {\n",
       "        vertical-align: middle;\n",
       "    }\n",
       "\n",
       "    .dataframe tbody tr th {\n",
       "        vertical-align: top;\n",
       "    }\n",
       "\n",
       "    .dataframe thead th {\n",
       "        text-align: right;\n",
       "    }\n",
       "</style>\n",
       "<table border=\"1\" class=\"dataframe\">\n",
       "  <thead>\n",
       "    <tr style=\"text-align: right;\">\n",
       "      <th></th>\n",
       "      <th>SOC_CODE</th>\n",
       "    </tr>\n",
       "    <tr>\n",
       "      <th>SOC_NAME</th>\n",
       "      <th></th>\n",
       "    </tr>\n",
       "  </thead>\n",
       "  <tbody>\n",
       "    <tr>\n",
       "      <th>SOFTWARE DEVELOPERS, APPLICATIONS</th>\n",
       "      <td>18369</td>\n",
       "    </tr>\n",
       "    <tr>\n",
       "      <th>COMPUTER SYSTEMS ANALYSTS</th>\n",
       "      <td>13866</td>\n",
       "    </tr>\n",
       "    <tr>\n",
       "      <th>COMPUTER PROGRAMMERS</th>\n",
       "      <td>11005</td>\n",
       "    </tr>\n",
       "    <tr>\n",
       "      <th>COMPUTER OCCUPATIONS, ALL OTHER</th>\n",
       "      <td>7133</td>\n",
       "    </tr>\n",
       "    <tr>\n",
       "      <th>COMPUTER SYSTEMS ANALYST</th>\n",
       "      <td>3387</td>\n",
       "    </tr>\n",
       "  </tbody>\n",
       "</table>\n",
       "</div>"
      ],
      "text/plain": [
       "                                   SOC_CODE\n",
       "SOC_NAME                                   \n",
       "SOFTWARE DEVELOPERS, APPLICATIONS     18369\n",
       "COMPUTER SYSTEMS ANALYSTS             13866\n",
       "COMPUTER PROGRAMMERS                  11005\n",
       "COMPUTER OCCUPATIONS, ALL OTHER        7133\n",
       "COMPUTER SYSTEMS ANALYST               3387"
      ]
     },
     "execution_count": 10,
     "metadata": {},
     "output_type": "execute_result"
    }
   ],
   "source": [
    "# Compare both dataframes\n",
    "cert_visas_grp_occ.head()\n",
    "cert_visas_grp_occ_3.head()"
   ]
  },
  {
   "cell_type": "code",
   "execution_count": 11,
   "metadata": {
    "jupyter": {
     "outputs_hidden": false
    }
   },
   "outputs": [
    {
     "data": {
      "text/html": [
       "<div>\n",
       "<style scoped>\n",
       "    .dataframe tbody tr th:only-of-type {\n",
       "        vertical-align: middle;\n",
       "    }\n",
       "\n",
       "    .dataframe tbody tr th {\n",
       "        vertical-align: top;\n",
       "    }\n",
       "\n",
       "    .dataframe thead th {\n",
       "        text-align: right;\n",
       "    }\n",
       "</style>\n",
       "<table border=\"1\" class=\"dataframe\">\n",
       "  <thead>\n",
       "    <tr style=\"text-align: right;\">\n",
       "      <th></th>\n",
       "      <th>Occupation</th>\n",
       "      <th>Quantity</th>\n",
       "    </tr>\n",
       "  </thead>\n",
       "  <tbody>\n",
       "    <tr>\n",
       "      <th>0</th>\n",
       "      <td>SOFTWARE DEVELOPERS, APPLICATIONS</td>\n",
       "      <td>18369</td>\n",
       "    </tr>\n",
       "    <tr>\n",
       "      <th>1</th>\n",
       "      <td>COMPUTER SYSTEMS ANALYSTS</td>\n",
       "      <td>13866</td>\n",
       "    </tr>\n",
       "    <tr>\n",
       "      <th>2</th>\n",
       "      <td>COMPUTER PROGRAMMERS</td>\n",
       "      <td>11005</td>\n",
       "    </tr>\n",
       "    <tr>\n",
       "      <th>3</th>\n",
       "      <td>COMPUTER OCCUPATIONS, ALL OTHER</td>\n",
       "      <td>7133</td>\n",
       "    </tr>\n",
       "    <tr>\n",
       "      <th>4</th>\n",
       "      <td>COMPUTER SYSTEMS ANALYST</td>\n",
       "      <td>3387</td>\n",
       "    </tr>\n",
       "    <tr>\n",
       "      <th>5</th>\n",
       "      <td>SOFTWARE DEVELOPERS, SYSTEMS SOFTWARE</td>\n",
       "      <td>2814</td>\n",
       "    </tr>\n",
       "    <tr>\n",
       "      <th>6</th>\n",
       "      <td>MANAGEMENT ANALYSTS</td>\n",
       "      <td>1784</td>\n",
       "    </tr>\n",
       "    <tr>\n",
       "      <th>7</th>\n",
       "      <td>ACCOUNTANTS AND AUDITORS</td>\n",
       "      <td>1657</td>\n",
       "    </tr>\n",
       "    <tr>\n",
       "      <th>8</th>\n",
       "      <td>NETWORK AND COMPUTER SYSTEMS ADMINISTRATORS</td>\n",
       "      <td>1299</td>\n",
       "    </tr>\n",
       "    <tr>\n",
       "      <th>9</th>\n",
       "      <td>FINANCIAL ANALYSTS</td>\n",
       "      <td>1148</td>\n",
       "    </tr>\n",
       "  </tbody>\n",
       "</table>\n",
       "</div>"
      ],
      "text/plain": [
       "                                    Occupation  Quantity\n",
       "0            SOFTWARE DEVELOPERS, APPLICATIONS     18369\n",
       "1                    COMPUTER SYSTEMS ANALYSTS     13866\n",
       "2                         COMPUTER PROGRAMMERS     11005\n",
       "3              COMPUTER OCCUPATIONS, ALL OTHER      7133\n",
       "4                     COMPUTER SYSTEMS ANALYST      3387\n",
       "5        SOFTWARE DEVELOPERS, SYSTEMS SOFTWARE      2814\n",
       "6                          MANAGEMENT ANALYSTS      1784\n",
       "7                     ACCOUNTANTS AND AUDITORS      1657\n",
       "8  NETWORK AND COMPUTER SYSTEMS ADMINISTRATORS      1299\n",
       "9                           FINANCIAL ANALYSTS      1148"
      ]
     },
     "execution_count": 11,
     "metadata": {},
     "output_type": "execute_result"
    }
   ],
   "source": [
    "# Reset the index, rename the column names and show the top 10\n",
    "cert_visas_grp_occ = cert_visas_grp_occ.reset_index()\n",
    "cert_visas_grp_occ.columns = ['Occupation','Quantity']\n",
    "cert_visas_grp_occ[0:10]"
   ]
  },
  {
   "cell_type": "markdown",
   "metadata": {},
   "source": [
    "### Question 2 - Which company hires more data scientists?"
   ]
  },
  {
   "cell_type": "code",
   "execution_count": 12,
   "metadata": {
    "jupyter": {
     "outputs_hidden": false
    }
   },
   "outputs": [],
   "source": [
    "# Subset, Group, sum and sort in one single line\n",
    "visas_gr_comp = visas[['EMPLOYER_NAME','JOB_TITLE']][visas.JOB_TITLE == 'DATA SCIENTIST'].groupby('EMPLOYER_NAME').agg('count').sort_values(by='JOB_TITLE', ascending=False)\n",
    "\n",
    "# Alternatively, Group, sum and sort in four steps\n",
    "visas_gr_comp_1 = visas[['EMPLOYER_NAME','JOB_TITLE']]\n",
    "visas_gr_comp_2 = visas_gr_comp_1[visas.JOB_TITLE == 'DATA SCIENTIST']\n",
    "visas_gr_comp_3 = visas_gr_comp_2.groupby('EMPLOYER_NAME').agg('count')\n",
    "visas_gr_comp_4 = visas_gr_comp_3.sort_values(by='JOB_TITLE', ascending=False)"
   ]
  },
  {
   "cell_type": "code",
   "execution_count": 13,
   "metadata": {
    "jupyter": {
     "outputs_hidden": false
    }
   },
   "outputs": [
    {
     "data": {
      "text/html": [
       "<div>\n",
       "<style scoped>\n",
       "    .dataframe tbody tr th:only-of-type {\n",
       "        vertical-align: middle;\n",
       "    }\n",
       "\n",
       "    .dataframe tbody tr th {\n",
       "        vertical-align: top;\n",
       "    }\n",
       "\n",
       "    .dataframe thead th {\n",
       "        text-align: right;\n",
       "    }\n",
       "</style>\n",
       "<table border=\"1\" class=\"dataframe\">\n",
       "  <thead>\n",
       "    <tr style=\"text-align: right;\">\n",
       "      <th></th>\n",
       "      <th>JOB_TITLE</th>\n",
       "    </tr>\n",
       "    <tr>\n",
       "      <th>EMPLOYER_NAME</th>\n",
       "      <th></th>\n",
       "    </tr>\n",
       "  </thead>\n",
       "  <tbody>\n",
       "    <tr>\n",
       "      <th>MICROSOFT CORPORATION</th>\n",
       "      <td>40</td>\n",
       "    </tr>\n",
       "    <tr>\n",
       "      <th>FACEBOOK, INC.</th>\n",
       "      <td>12</td>\n",
       "    </tr>\n",
       "    <tr>\n",
       "      <th>UBER TECHNOLOGIES, INC.</th>\n",
       "      <td>6</td>\n",
       "    </tr>\n",
       "    <tr>\n",
       "      <th>THE NIELSEN COMPANY (US), LLC</th>\n",
       "      <td>4</td>\n",
       "    </tr>\n",
       "    <tr>\n",
       "      <th>SCHLUMBERGER TECHNOLOGY CORPORATION</th>\n",
       "      <td>4</td>\n",
       "    </tr>\n",
       "  </tbody>\n",
       "</table>\n",
       "</div>"
      ],
      "text/plain": [
       "                                     JOB_TITLE\n",
       "EMPLOYER_NAME                                 \n",
       "MICROSOFT CORPORATION                       40\n",
       "FACEBOOK, INC.                              12\n",
       "UBER TECHNOLOGIES, INC.                      6\n",
       "THE NIELSEN COMPANY (US), LLC                4\n",
       "SCHLUMBERGER TECHNOLOGY CORPORATION          4"
      ]
     },
     "execution_count": 13,
     "metadata": {},
     "output_type": "execute_result"
    }
   ],
   "source": [
    "# Compare both dataframes\n",
    "visas_gr_comp.head()\n",
    "visas_gr_comp_4.head()"
   ]
  },
  {
   "cell_type": "code",
   "execution_count": 14,
   "metadata": {
    "jupyter": {
     "outputs_hidden": false
    }
   },
   "outputs": [
    {
     "data": {
      "text/html": [
       "<div>\n",
       "<style scoped>\n",
       "    .dataframe tbody tr th:only-of-type {\n",
       "        vertical-align: middle;\n",
       "    }\n",
       "\n",
       "    .dataframe tbody tr th {\n",
       "        vertical-align: top;\n",
       "    }\n",
       "\n",
       "    .dataframe thead th {\n",
       "        text-align: right;\n",
       "    }\n",
       "</style>\n",
       "<table border=\"1\" class=\"dataframe\">\n",
       "  <thead>\n",
       "    <tr style=\"text-align: right;\">\n",
       "      <th></th>\n",
       "      <th>Company</th>\n",
       "      <th>Quantity</th>\n",
       "    </tr>\n",
       "  </thead>\n",
       "  <tbody>\n",
       "    <tr>\n",
       "      <th>0</th>\n",
       "      <td>MICROSOFT CORPORATION</td>\n",
       "      <td>40</td>\n",
       "    </tr>\n",
       "  </tbody>\n",
       "</table>\n",
       "</div>"
      ],
      "text/plain": [
       "                 Company  Quantity\n",
       "0  MICROSOFT CORPORATION        40"
      ]
     },
     "execution_count": 14,
     "metadata": {},
     "output_type": "execute_result"
    }
   ],
   "source": [
    "# Reset the index, rename the column names and show the single company that hires more foreign data scientists\n",
    "visas_gr_comp = visas_gr_comp.reset_index()\n",
    "visas_gr_comp.columns = ['Company','Quantity']\n",
    "visas_gr_comp[0:1]"
   ]
  },
  {
   "cell_type": "markdown",
   "metadata": {},
   "source": [
    "### Question 3 - What is the average salary for data scientists? How it is compared to the mean of applications?"
   ]
  },
  {
   "cell_type": "code",
   "execution_count": 15,
   "metadata": {
    "jupyter": {
     "outputs_hidden": false
    }
   },
   "outputs": [
    {
     "name": "stdout",
     "output_type": "stream",
     "text": [
      "The average salary of all applications is $ 75734.59\n"
     ]
    }
   ],
   "source": [
    "# Calculate the mean of all applications\n",
    "all_positions_salary = np.mean(visas.PREVAILING_WAGE)\n",
    "\n",
    "print ('The average salary of all applications is $ {:.2f}'.format(all_positions_salary))"
   ]
  },
  {
   "cell_type": "code",
   "execution_count": 16,
   "metadata": {
    "jupyter": {
     "outputs_hidden": false
    }
   },
   "outputs": [
    {
     "name": "stdout",
     "output_type": "stream",
     "text": [
      "The average salary of data scientists is $ 88646.04\n"
     ]
    }
   ],
   "source": [
    "# Calculate the mean of data science positions\n",
    "ds_salary = np.mean(visas[visas.JOB_TITLE == 'DATA SCIENTIST'].PREVAILING_WAGE)\n",
    "\n",
    "print ('The average salary of data scientists is $ {:.2f}'.format(ds_salary))"
   ]
  },
  {
   "cell_type": "code",
   "execution_count": 17,
   "metadata": {
    "jupyter": {
     "outputs_hidden": false
    }
   },
   "outputs": [
    {
     "name": "stdout",
     "output_type": "stream",
     "text": [
      "Data scientists earn, on average, $ 12911.46 more. It represents 17.05% more than the average of all applications.\n"
     ]
    }
   ],
   "source": [
    "salary_diff = ds_salary - all_positions_salary\n",
    "\n",
    "print ('Data scientists earn, on average, $ {:.2f} more. It represents {:.2f}% more than the average of all applications.'\n",
    "       .format(salary_diff, salary_diff/all_positions_salary*100))"
   ]
  },
  {
   "cell_type": "markdown",
   "metadata": {},
   "source": [
    "### Question 4 - Which state has the higher deny proportionally to application. And proportionally to the population?"
   ]
  },
  {
   "cell_type": "code",
   "execution_count": 18,
   "metadata": {
    "jupyter": {
     "outputs_hidden": false
    }
   },
   "outputs": [
    {
     "data": {
      "text/plain": [
       "1369"
      ]
     },
     "execution_count": 18,
     "metadata": {},
     "output_type": "execute_result"
    }
   ],
   "source": [
    "# Investigate the number of denied cases\n",
    "visas[visas.CASE_STATUS == 'DENIED'].CASE_NUMBER.count()"
   ]
  },
  {
   "cell_type": "code",
   "execution_count": 19,
   "metadata": {
    "jupyter": {
     "outputs_hidden": false
    }
   },
   "outputs": [],
   "source": [
    "# Read the states population dataset\n",
    "states = pd.read_csv ('states population.csv', encoding = 'latin1')"
   ]
  },
  {
   "cell_type": "code",
   "execution_count": 20,
   "metadata": {
    "jupyter": {
     "outputs_hidden": false
    }
   },
   "outputs": [
    {
     "data": {
      "text/html": [
       "<div>\n",
       "<style scoped>\n",
       "    .dataframe tbody tr th:only-of-type {\n",
       "        vertical-align: middle;\n",
       "    }\n",
       "\n",
       "    .dataframe tbody tr th {\n",
       "        vertical-align: top;\n",
       "    }\n",
       "\n",
       "    .dataframe thead th {\n",
       "        text-align: right;\n",
       "    }\n",
       "</style>\n",
       "<table border=\"1\" class=\"dataframe\">\n",
       "  <thead>\n",
       "    <tr style=\"text-align: right;\">\n",
       "      <th></th>\n",
       "      <th>State abbreviation</th>\n",
       "      <th>State</th>\n",
       "      <th>Population estimate</th>\n",
       "    </tr>\n",
       "  </thead>\n",
       "  <tbody>\n",
       "    <tr>\n",
       "      <th>0</th>\n",
       "      <td>CA</td>\n",
       "      <td>California</td>\n",
       "      <td>39250017</td>\n",
       "    </tr>\n",
       "    <tr>\n",
       "      <th>1</th>\n",
       "      <td>TX</td>\n",
       "      <td>Texas</td>\n",
       "      <td>27862596</td>\n",
       "    </tr>\n",
       "    <tr>\n",
       "      <th>2</th>\n",
       "      <td>FL</td>\n",
       "      <td>Florida</td>\n",
       "      <td>20612439</td>\n",
       "    </tr>\n",
       "    <tr>\n",
       "      <th>3</th>\n",
       "      <td>NY</td>\n",
       "      <td>New York</td>\n",
       "      <td>19745289</td>\n",
       "    </tr>\n",
       "    <tr>\n",
       "      <th>4</th>\n",
       "      <td>PA</td>\n",
       "      <td>Pennsylvania</td>\n",
       "      <td>12802503</td>\n",
       "    </tr>\n",
       "  </tbody>\n",
       "</table>\n",
       "</div>"
      ],
      "text/plain": [
       "  State abbreviation          State  Population estimate\n",
       "0                 CA     California             39250017\n",
       "1                 TX          Texas             27862596\n",
       "2                 FL        Florida             20612439\n",
       "3                 NY       New York             19745289\n",
       "4                 PA   Pennsylvania             12802503"
      ]
     },
     "execution_count": 20,
     "metadata": {},
     "output_type": "execute_result"
    }
   ],
   "source": [
    "# Explore the states population dataset\n",
    "states.head()"
   ]
  },
  {
   "cell_type": "code",
   "execution_count": 21,
   "metadata": {
    "jupyter": {
     "outputs_hidden": false
    }
   },
   "outputs": [],
   "source": [
    "# Create a new dataframe to store all the numbers needed to perform the calculation\n",
    "visas_by_state = pd.DataFrame(states['State abbreviation'].unique())\n",
    "\n",
    "# Rename the column\n",
    "visas_by_state.columns = ['state']\n",
    "\n",
    "# Create three more coluns filled with zeros\n",
    "visas_by_state['denied'] = np.zeros(len(visas_by_state))\n",
    "visas_by_state['applicants'] = np.zeros(len(visas_by_state))\n",
    "visas_by_state['population'] = np.zeros(len(visas_by_state))\n",
    "\n",
    "# Redefine the index\n",
    "visas_by_state.set_index(visas_by_state.state, inplace=True, drop=True)"
   ]
  },
  {
   "cell_type": "code",
   "execution_count": 22,
   "metadata": {
    "jupyter": {
     "outputs_hidden": false
    }
   },
   "outputs": [
    {
     "data": {
      "text/html": [
       "<div>\n",
       "<style scoped>\n",
       "    .dataframe tbody tr th:only-of-type {\n",
       "        vertical-align: middle;\n",
       "    }\n",
       "\n",
       "    .dataframe tbody tr th {\n",
       "        vertical-align: top;\n",
       "    }\n",
       "\n",
       "    .dataframe thead th {\n",
       "        text-align: right;\n",
       "    }\n",
       "</style>\n",
       "<table border=\"1\" class=\"dataframe\">\n",
       "  <thead>\n",
       "    <tr style=\"text-align: right;\">\n",
       "      <th></th>\n",
       "      <th>state</th>\n",
       "      <th>denied</th>\n",
       "      <th>applicants</th>\n",
       "      <th>population</th>\n",
       "    </tr>\n",
       "    <tr>\n",
       "      <th>state</th>\n",
       "      <th></th>\n",
       "      <th></th>\n",
       "      <th></th>\n",
       "      <th></th>\n",
       "    </tr>\n",
       "  </thead>\n",
       "  <tbody>\n",
       "    <tr>\n",
       "      <th>CA</th>\n",
       "      <td>CA</td>\n",
       "      <td>0.0</td>\n",
       "      <td>0.0</td>\n",
       "      <td>0.0</td>\n",
       "    </tr>\n",
       "    <tr>\n",
       "      <th>TX</th>\n",
       "      <td>TX</td>\n",
       "      <td>0.0</td>\n",
       "      <td>0.0</td>\n",
       "      <td>0.0</td>\n",
       "    </tr>\n",
       "    <tr>\n",
       "      <th>FL</th>\n",
       "      <td>FL</td>\n",
       "      <td>0.0</td>\n",
       "      <td>0.0</td>\n",
       "      <td>0.0</td>\n",
       "    </tr>\n",
       "    <tr>\n",
       "      <th>NY</th>\n",
       "      <td>NY</td>\n",
       "      <td>0.0</td>\n",
       "      <td>0.0</td>\n",
       "      <td>0.0</td>\n",
       "    </tr>\n",
       "    <tr>\n",
       "      <th>PA</th>\n",
       "      <td>PA</td>\n",
       "      <td>0.0</td>\n",
       "      <td>0.0</td>\n",
       "      <td>0.0</td>\n",
       "    </tr>\n",
       "  </tbody>\n",
       "</table>\n",
       "</div>"
      ],
      "text/plain": [
       "      state  denied  applicants  population\n",
       "state                                      \n",
       "CA       CA     0.0         0.0         0.0\n",
       "TX       TX     0.0         0.0         0.0\n",
       "FL       FL     0.0         0.0         0.0\n",
       "NY       NY     0.0         0.0         0.0\n",
       "PA       PA     0.0         0.0         0.0"
      ]
     },
     "execution_count": 22,
     "metadata": {},
     "output_type": "execute_result"
    }
   ],
   "source": [
    "# Explore the new dataset created\n",
    "visas_by_state.head()"
   ]
  },
  {
   "cell_type": "code",
   "execution_count": 23,
   "metadata": {},
   "outputs": [],
   "source": [
    "# Loop through the states dataframe\n",
    "for st in visas_by_state.state:\n",
    "\n",
    "    # count denied visas by state\n",
    "    visas_by_state.loc[st, 'denied'] = len(visas[(visas.CASE_STATUS == 'DENIED') & (visas.EMPLOYER_STATE == st)])\n",
    "\n",
    "    # count applications by state\n",
    "    visas_by_state.loc[st, 'applicants'] = len(visas[visas.EMPLOYER_STATE == st])\n",
    "\n",
    "    # fill the population by state\n",
    "    visas_by_state.loc[st, 'population'] = np.sum(states[states['State abbreviation'] == st]['Population estimate'])"
   ]
  },
  {
   "cell_type": "code",
   "execution_count": 24,
   "metadata": {
    "jupyter": {
     "outputs_hidden": false
    }
   },
   "outputs": [
    {
     "data": {
      "text/html": [
       "<div>\n",
       "<style scoped>\n",
       "    .dataframe tbody tr th:only-of-type {\n",
       "        vertical-align: middle;\n",
       "    }\n",
       "\n",
       "    .dataframe tbody tr th {\n",
       "        vertical-align: top;\n",
       "    }\n",
       "\n",
       "    .dataframe thead th {\n",
       "        text-align: right;\n",
       "    }\n",
       "</style>\n",
       "<table border=\"1\" class=\"dataframe\">\n",
       "  <thead>\n",
       "    <tr style=\"text-align: right;\">\n",
       "      <th></th>\n",
       "      <th>state</th>\n",
       "      <th>denied</th>\n",
       "      <th>applicants</th>\n",
       "      <th>population</th>\n",
       "    </tr>\n",
       "    <tr>\n",
       "      <th>state</th>\n",
       "      <th></th>\n",
       "      <th></th>\n",
       "      <th></th>\n",
       "      <th></th>\n",
       "    </tr>\n",
       "  </thead>\n",
       "  <tbody>\n",
       "    <tr>\n",
       "      <th>CA</th>\n",
       "      <td>CA</td>\n",
       "      <td>257.0</td>\n",
       "      <td>15293.0</td>\n",
       "      <td>39250017.0</td>\n",
       "    </tr>\n",
       "    <tr>\n",
       "      <th>TX</th>\n",
       "      <td>TX</td>\n",
       "      <td>106.0</td>\n",
       "      <td>12090.0</td>\n",
       "      <td>27862596.0</td>\n",
       "    </tr>\n",
       "    <tr>\n",
       "      <th>FL</th>\n",
       "      <td>FL</td>\n",
       "      <td>74.0</td>\n",
       "      <td>3025.0</td>\n",
       "      <td>20612439.0</td>\n",
       "    </tr>\n",
       "    <tr>\n",
       "      <th>NY</th>\n",
       "      <td>NY</td>\n",
       "      <td>164.0</td>\n",
       "      <td>6606.0</td>\n",
       "      <td>19745289.0</td>\n",
       "    </tr>\n",
       "    <tr>\n",
       "      <th>PA</th>\n",
       "      <td>PA</td>\n",
       "      <td>77.0</td>\n",
       "      <td>3704.0</td>\n",
       "      <td>12802503.0</td>\n",
       "    </tr>\n",
       "  </tbody>\n",
       "</table>\n",
       "</div>"
      ],
      "text/plain": [
       "      state  denied  applicants  population\n",
       "state                                      \n",
       "CA       CA   257.0     15293.0  39250017.0\n",
       "TX       TX   106.0     12090.0  27862596.0\n",
       "FL       FL    74.0      3025.0  20612439.0\n",
       "NY       NY   164.0      6606.0  19745289.0\n",
       "PA       PA    77.0      3704.0  12802503.0"
      ]
     },
     "execution_count": 24,
     "metadata": {},
     "output_type": "execute_result"
    }
   ],
   "source": [
    "# Investigate the filled dataframe\n",
    "visas_by_state.head()"
   ]
  },
  {
   "cell_type": "code",
   "execution_count": 25,
   "metadata": {
    "jupyter": {
     "outputs_hidden": false
    }
   },
   "outputs": [],
   "source": [
    "# Create two additional columns to represent the proportion of denied by applications and by population\n",
    "visas_by_state['denied_by_application'] = np.divide (visas_by_state.denied, visas_by_state.applicants)\n",
    "visas_by_state['denied_by_population'] = np.divide (visas_by_state.denied, visas_by_state.population)"
   ]
  },
  {
   "cell_type": "code",
   "execution_count": 26,
   "metadata": {
    "jupyter": {
     "outputs_hidden": false
    }
   },
   "outputs": [
    {
     "data": {
      "text/html": [
       "<div>\n",
       "<style scoped>\n",
       "    .dataframe tbody tr th:only-of-type {\n",
       "        vertical-align: middle;\n",
       "    }\n",
       "\n",
       "    .dataframe tbody tr th {\n",
       "        vertical-align: top;\n",
       "    }\n",
       "\n",
       "    .dataframe thead th {\n",
       "        text-align: right;\n",
       "    }\n",
       "</style>\n",
       "<table border=\"1\" class=\"dataframe\">\n",
       "  <thead>\n",
       "    <tr style=\"text-align: right;\">\n",
       "      <th></th>\n",
       "      <th>state</th>\n",
       "      <th>denied</th>\n",
       "      <th>applicants</th>\n",
       "      <th>population</th>\n",
       "      <th>denied_by_application</th>\n",
       "      <th>denied_by_population</th>\n",
       "      <th>State abbreviation</th>\n",
       "      <th>State</th>\n",
       "      <th>Population estimate</th>\n",
       "    </tr>\n",
       "  </thead>\n",
       "  <tbody>\n",
       "    <tr>\n",
       "      <th>0</th>\n",
       "      <td>CA</td>\n",
       "      <td>257.0</td>\n",
       "      <td>15293.0</td>\n",
       "      <td>39250017.0</td>\n",
       "      <td>0.016805</td>\n",
       "      <td>0.000007</td>\n",
       "      <td>CA</td>\n",
       "      <td>California</td>\n",
       "      <td>39250017</td>\n",
       "    </tr>\n",
       "    <tr>\n",
       "      <th>1</th>\n",
       "      <td>TX</td>\n",
       "      <td>106.0</td>\n",
       "      <td>12090.0</td>\n",
       "      <td>27862596.0</td>\n",
       "      <td>0.008768</td>\n",
       "      <td>0.000004</td>\n",
       "      <td>TX</td>\n",
       "      <td>Texas</td>\n",
       "      <td>27862596</td>\n",
       "    </tr>\n",
       "    <tr>\n",
       "      <th>2</th>\n",
       "      <td>FL</td>\n",
       "      <td>74.0</td>\n",
       "      <td>3025.0</td>\n",
       "      <td>20612439.0</td>\n",
       "      <td>0.024463</td>\n",
       "      <td>0.000004</td>\n",
       "      <td>FL</td>\n",
       "      <td>Florida</td>\n",
       "      <td>20612439</td>\n",
       "    </tr>\n",
       "    <tr>\n",
       "      <th>3</th>\n",
       "      <td>NY</td>\n",
       "      <td>164.0</td>\n",
       "      <td>6606.0</td>\n",
       "      <td>19745289.0</td>\n",
       "      <td>0.024826</td>\n",
       "      <td>0.000008</td>\n",
       "      <td>NY</td>\n",
       "      <td>New York</td>\n",
       "      <td>19745289</td>\n",
       "    </tr>\n",
       "    <tr>\n",
       "      <th>4</th>\n",
       "      <td>PA</td>\n",
       "      <td>77.0</td>\n",
       "      <td>3704.0</td>\n",
       "      <td>12802503.0</td>\n",
       "      <td>0.020788</td>\n",
       "      <td>0.000006</td>\n",
       "      <td>PA</td>\n",
       "      <td>Pennsylvania</td>\n",
       "      <td>12802503</td>\n",
       "    </tr>\n",
       "  </tbody>\n",
       "</table>\n",
       "</div>"
      ],
      "text/plain": [
       "  state  denied  applicants  population  denied_by_application  \\\n",
       "0    CA   257.0     15293.0  39250017.0               0.016805   \n",
       "1    TX   106.0     12090.0  27862596.0               0.008768   \n",
       "2    FL    74.0      3025.0  20612439.0               0.024463   \n",
       "3    NY   164.0      6606.0  19745289.0               0.024826   \n",
       "4    PA    77.0      3704.0  12802503.0               0.020788   \n",
       "\n",
       "   denied_by_population State abbreviation          State  Population estimate  \n",
       "0              0.000007                 CA     California             39250017  \n",
       "1              0.000004                 TX          Texas             27862596  \n",
       "2              0.000004                 FL        Florida             20612439  \n",
       "3              0.000008                 NY       New York             19745289  \n",
       "4              0.000006                 PA   Pennsylvania             12802503  "
      ]
     },
     "execution_count": 26,
     "metadata": {},
     "output_type": "execute_result"
    }
   ],
   "source": [
    "# Merge the visas by state and the states population to get the state name\n",
    "visas_by_state = pd.merge(visas_by_state, states, left_index = True, right_on = 'State abbreviation')\n",
    "\n",
    "# Explore the dataframe after the merge\n",
    "visas_by_state.head()"
   ]
  },
  {
   "cell_type": "code",
   "execution_count": 27,
   "metadata": {
    "jupyter": {
     "outputs_hidden": false
    }
   },
   "outputs": [
    {
     "data": {
      "text/html": [
       "<div>\n",
       "<style scoped>\n",
       "    .dataframe tbody tr th:only-of-type {\n",
       "        vertical-align: middle;\n",
       "    }\n",
       "\n",
       "    .dataframe tbody tr th {\n",
       "        vertical-align: top;\n",
       "    }\n",
       "\n",
       "    .dataframe thead th {\n",
       "        text-align: right;\n",
       "    }\n",
       "</style>\n",
       "<table border=\"1\" class=\"dataframe\">\n",
       "  <thead>\n",
       "    <tr style=\"text-align: right;\">\n",
       "      <th></th>\n",
       "      <th>State abbreviation</th>\n",
       "      <th>State</th>\n",
       "      <th>denied_by_application</th>\n",
       "    </tr>\n",
       "  </thead>\n",
       "  <tbody>\n",
       "    <tr>\n",
       "      <th>39</th>\n",
       "      <td>HI</td>\n",
       "      <td>Hawaii</td>\n",
       "      <td>0.130435</td>\n",
       "    </tr>\n",
       "  </tbody>\n",
       "</table>\n",
       "</div>"
      ],
      "text/plain": [
       "   State abbreviation    State  denied_by_application\n",
       "39                 HI   Hawaii               0.130435"
      ]
     },
     "execution_count": 27,
     "metadata": {},
     "output_type": "execute_result"
    }
   ],
   "source": [
    "# Show the state with higher rate of denied visas by application (13,04%)\n",
    "visas_by_state.sort_values(by='denied_by_application', ascending=False)[0:1][['State abbreviation','State', 'denied_by_application']]"
   ]
  },
  {
   "cell_type": "code",
   "execution_count": 28,
   "metadata": {
    "jupyter": {
     "outputs_hidden": false
    }
   },
   "outputs": [
    {
     "data": {
      "text/html": [
       "<div>\n",
       "<style scoped>\n",
       "    .dataframe tbody tr th:only-of-type {\n",
       "        vertical-align: middle;\n",
       "    }\n",
       "\n",
       "    .dataframe tbody tr th {\n",
       "        vertical-align: top;\n",
       "    }\n",
       "\n",
       "    .dataframe thead th {\n",
       "        text-align: right;\n",
       "    }\n",
       "</style>\n",
       "<table border=\"1\" class=\"dataframe\">\n",
       "  <thead>\n",
       "    <tr style=\"text-align: right;\">\n",
       "      <th></th>\n",
       "      <th>State abbreviation</th>\n",
       "      <th>State</th>\n",
       "      <th>denied_by_population</th>\n",
       "    </tr>\n",
       "  </thead>\n",
       "  <tbody>\n",
       "    <tr>\n",
       "      <th>44</th>\n",
       "      <td>DE</td>\n",
       "      <td>Delaware</td>\n",
       "      <td>0.000013</td>\n",
       "    </tr>\n",
       "  </tbody>\n",
       "</table>\n",
       "</div>"
      ],
      "text/plain": [
       "   State abbreviation      State  denied_by_population\n",
       "44                 DE   Delaware              0.000013"
      ]
     },
     "execution_count": 28,
     "metadata": {},
     "output_type": "execute_result"
    }
   ],
   "source": [
    "# Show the state with higher rate of denied visas by population (0,0013%)\n",
    "visas_by_state.sort_values(by='denied_by_population', ascending=False)[0:1][['State abbreviation','State','denied_by_population']]"
   ]
  },
  {
   "cell_type": "markdown",
   "metadata": {},
   "source": [
    "### Question 5 - What industries are in the top 5 percentile of applications?"
   ]
  },
  {
   "cell_type": "code",
   "execution_count": 29,
   "metadata": {},
   "outputs": [],
   "source": [
    "# Read the NAICS dataset\n",
    "naics = pd.read_csv ('naics codes.csv', encoding = 'latin1')"
   ]
  },
  {
   "cell_type": "code",
   "execution_count": 30,
   "metadata": {
    "jupyter": {
     "outputs_hidden": false
    }
   },
   "outputs": [
    {
     "data": {
      "text/html": [
       "<div>\n",
       "<style scoped>\n",
       "    .dataframe tbody tr th:only-of-type {\n",
       "        vertical-align: middle;\n",
       "    }\n",
       "\n",
       "    .dataframe tbody tr th {\n",
       "        vertical-align: top;\n",
       "    }\n",
       "\n",
       "    .dataframe thead th {\n",
       "        text-align: right;\n",
       "    }\n",
       "</style>\n",
       "<table border=\"1\" class=\"dataframe\">\n",
       "  <thead>\n",
       "    <tr style=\"text-align: right;\">\n",
       "      <th></th>\n",
       "      <th>NAICS Code</th>\n",
       "      <th>NAICS Title</th>\n",
       "      <th>Unnamed: 2</th>\n",
       "    </tr>\n",
       "  </thead>\n",
       "  <tbody>\n",
       "    <tr>\n",
       "      <th>0</th>\n",
       "      <td>11</td>\n",
       "      <td>Agriculture, Forestry, Fishing and Hunting</td>\n",
       "      <td>NaN</td>\n",
       "    </tr>\n",
       "    <tr>\n",
       "      <th>1</th>\n",
       "      <td>21</td>\n",
       "      <td>Mining, Quarrying, and Oil and Gas Extraction</td>\n",
       "      <td>NaN</td>\n",
       "    </tr>\n",
       "    <tr>\n",
       "      <th>2</th>\n",
       "      <td>22</td>\n",
       "      <td>Utilities</td>\n",
       "      <td>NaN</td>\n",
       "    </tr>\n",
       "    <tr>\n",
       "      <th>3</th>\n",
       "      <td>23</td>\n",
       "      <td>Construction</td>\n",
       "      <td>NaN</td>\n",
       "    </tr>\n",
       "    <tr>\n",
       "      <th>4</th>\n",
       "      <td>42</td>\n",
       "      <td>Wholesale Trade</td>\n",
       "      <td>NaN</td>\n",
       "    </tr>\n",
       "  </tbody>\n",
       "</table>\n",
       "</div>"
      ],
      "text/plain": [
       "   NAICS Code                                    NAICS Title Unnamed: 2\n",
       "0          11     Agriculture, Forestry, Fishing and Hunting        NaN\n",
       "1          21  Mining, Quarrying, and Oil and Gas Extraction        NaN\n",
       "2          22                                      Utilities        NaN\n",
       "3          23                                   Construction        NaN\n",
       "4          42                                Wholesale Trade        NaN"
      ]
     },
     "execution_count": 30,
     "metadata": {},
     "output_type": "execute_result"
    }
   ],
   "source": [
    "# Explore the dataset\n",
    "naics.head()"
   ]
  },
  {
   "cell_type": "code",
   "execution_count": 31,
   "metadata": {},
   "outputs": [],
   "source": [
    "# Remove the last column, with invalid values\n",
    "naics = naics[['NAICS Code', 'NAICS Title']]\n",
    "\n",
    "# Rename the columns\n",
    "naics.columns = ['NAICS_CODE','NAICS_TITLE']"
   ]
  },
  {
   "cell_type": "code",
   "execution_count": 32,
   "metadata": {
    "jupyter": {
     "outputs_hidden": false
    }
   },
   "outputs": [
    {
     "data": {
      "text/html": [
       "<div>\n",
       "<style scoped>\n",
       "    .dataframe tbody tr th:only-of-type {\n",
       "        vertical-align: middle;\n",
       "    }\n",
       "\n",
       "    .dataframe tbody tr th {\n",
       "        vertical-align: top;\n",
       "    }\n",
       "\n",
       "    .dataframe thead th {\n",
       "        text-align: right;\n",
       "    }\n",
       "</style>\n",
       "<table border=\"1\" class=\"dataframe\">\n",
       "  <thead>\n",
       "    <tr style=\"text-align: right;\">\n",
       "      <th></th>\n",
       "      <th>NAICS_CODE</th>\n",
       "      <th>NAICS_TITLE</th>\n",
       "    </tr>\n",
       "  </thead>\n",
       "  <tbody>\n",
       "    <tr>\n",
       "      <th>1219</th>\n",
       "      <td>113310</td>\n",
       "      <td>4</td>\n",
       "    </tr>\n",
       "    <tr>\n",
       "      <th>1926</th>\n",
       "      <td>441320</td>\n",
       "      <td>4</td>\n",
       "    </tr>\n",
       "    <tr>\n",
       "      <th>1911</th>\n",
       "      <td>424920</td>\n",
       "      <td>4</td>\n",
       "    </tr>\n",
       "    <tr>\n",
       "      <th>1912</th>\n",
       "      <td>424930</td>\n",
       "      <td>4</td>\n",
       "    </tr>\n",
       "    <tr>\n",
       "      <th>1914</th>\n",
       "      <td>424950</td>\n",
       "      <td>4</td>\n",
       "    </tr>\n",
       "  </tbody>\n",
       "</table>\n",
       "</div>"
      ],
      "text/plain": [
       "      NAICS_CODE  NAICS_TITLE\n",
       "1219      113310            4\n",
       "1926      441320            4\n",
       "1911      424920            4\n",
       "1912      424930            4\n",
       "1914      424950            4"
      ]
     },
     "execution_count": 32,
     "metadata": {},
     "output_type": "execute_result"
    }
   ],
   "source": [
    "# Investigate if we have more than 1 code in the dataset\n",
    "naics[['NAICS_CODE','NAICS_TITLE']].groupby('NAICS_CODE').agg('count').reset_index().sort_values(by='NAICS_TITLE', ascending=False).head()"
   ]
  },
  {
   "cell_type": "code",
   "execution_count": 33,
   "metadata": {
    "jupyter": {
     "outputs_hidden": false
    }
   },
   "outputs": [],
   "source": [
    "# Drop the duplicate codes, but leave 1 of each\n",
    "naics.drop_duplicates(subset=['NAICS_CODE'], keep = 'last', inplace = True)"
   ]
  },
  {
   "cell_type": "code",
   "execution_count": 34,
   "metadata": {
    "jupyter": {
     "outputs_hidden": false
    }
   },
   "outputs": [
    {
     "data": {
      "text/html": [
       "<div>\n",
       "<style scoped>\n",
       "    .dataframe tbody tr th:only-of-type {\n",
       "        vertical-align: middle;\n",
       "    }\n",
       "\n",
       "    .dataframe tbody tr th {\n",
       "        vertical-align: top;\n",
       "    }\n",
       "\n",
       "    .dataframe thead th {\n",
       "        text-align: right;\n",
       "    }\n",
       "</style>\n",
       "<table border=\"1\" class=\"dataframe\">\n",
       "  <thead>\n",
       "    <tr style=\"text-align: right;\">\n",
       "      <th></th>\n",
       "      <th>NAICS_CODE</th>\n",
       "      <th>NAICS_TITLE</th>\n",
       "    </tr>\n",
       "  </thead>\n",
       "  <tbody>\n",
       "    <tr>\n",
       "      <th>0</th>\n",
       "      <td>11</td>\n",
       "      <td>1</td>\n",
       "    </tr>\n",
       "    <tr>\n",
       "      <th>1629</th>\n",
       "      <td>332322</td>\n",
       "      <td>1</td>\n",
       "    </tr>\n",
       "    <tr>\n",
       "      <th>1622</th>\n",
       "      <td>332214</td>\n",
       "      <td>1</td>\n",
       "    </tr>\n",
       "    <tr>\n",
       "      <th>1623</th>\n",
       "      <td>332215</td>\n",
       "      <td>1</td>\n",
       "    </tr>\n",
       "    <tr>\n",
       "      <th>1624</th>\n",
       "      <td>332216</td>\n",
       "      <td>1</td>\n",
       "    </tr>\n",
       "  </tbody>\n",
       "</table>\n",
       "</div>"
      ],
      "text/plain": [
       "      NAICS_CODE  NAICS_TITLE\n",
       "0             11            1\n",
       "1629      332322            1\n",
       "1622      332214            1\n",
       "1623      332215            1\n",
       "1624      332216            1"
      ]
     },
     "execution_count": 34,
     "metadata": {},
     "output_type": "execute_result"
    }
   ],
   "source": [
    "# Investigate if we have more than 1 code in the dataset\n",
    "naics[['NAICS_CODE','NAICS_TITLE']].groupby('NAICS_CODE').agg('count').reset_index().sort_values(by='NAICS_TITLE', ascending=False).head()"
   ]
  },
  {
   "cell_type": "code",
   "execution_count": 35,
   "metadata": {
    "jupyter": {
     "outputs_hidden": false
    }
   },
   "outputs": [],
   "source": [
    "# Merge visas and naics dataset\n",
    "visas_by_industry = pd.merge(visas, naics, on = 'NAICS_CODE')"
   ]
  },
  {
   "cell_type": "code",
   "execution_count": 36,
   "metadata": {
    "jupyter": {
     "outputs_hidden": false
    }
   },
   "outputs": [
    {
     "data": {
      "text/html": [
       "<div>\n",
       "<style scoped>\n",
       "    .dataframe tbody tr th:only-of-type {\n",
       "        vertical-align: middle;\n",
       "    }\n",
       "\n",
       "    .dataframe tbody tr th {\n",
       "        vertical-align: top;\n",
       "    }\n",
       "\n",
       "    .dataframe thead th {\n",
       "        text-align: right;\n",
       "    }\n",
       "</style>\n",
       "<table border=\"1\" class=\"dataframe\">\n",
       "  <thead>\n",
       "    <tr style=\"text-align: right;\">\n",
       "      <th></th>\n",
       "      <th>CASE_NUMBER</th>\n",
       "      <th>CASE_STATUS</th>\n",
       "      <th>CASE_SUBMITTED</th>\n",
       "      <th>DECISION_DATE</th>\n",
       "      <th>VISA_CLASS</th>\n",
       "      <th>EMPLOYMENT_START_DATE</th>\n",
       "      <th>EMPLOYMENT_END_DATE</th>\n",
       "      <th>EMPLOYER_NAME</th>\n",
       "      <th>EMPLOYER_STATE</th>\n",
       "      <th>EMPLOYER_POSTAL_CODE</th>\n",
       "      <th>JOB_TITLE</th>\n",
       "      <th>SOC_CODE</th>\n",
       "      <th>SOC_NAME</th>\n",
       "      <th>NAICS_CODE</th>\n",
       "      <th>PREVAILING_WAGE</th>\n",
       "      <th>NAICS_TITLE</th>\n",
       "    </tr>\n",
       "  </thead>\n",
       "  <tbody>\n",
       "    <tr>\n",
       "      <th>0</th>\n",
       "      <td>I-200-09209-039181</td>\n",
       "      <td>CERTIFIED</td>\n",
       "      <td>27-09-16</td>\n",
       "      <td>03-10-16</td>\n",
       "      <td>H-1B</td>\n",
       "      <td>01-10-16</td>\n",
       "      <td>20-09-19</td>\n",
       "      <td>CLOUDWICK TECHNOLOGIES INC.</td>\n",
       "      <td>CA</td>\n",
       "      <td>94560</td>\n",
       "      <td>HADOOP ADMINISTRATOR</td>\n",
       "      <td>15-1132</td>\n",
       "      <td>SOFTWARE DEVELOPERS, APPLICATIONS</td>\n",
       "      <td>541511</td>\n",
       "      <td>102149</td>\n",
       "      <td>Custom Computer Programming Services</td>\n",
       "    </tr>\n",
       "    <tr>\n",
       "      <th>1</th>\n",
       "      <td>I-200-11045-306092</td>\n",
       "      <td>WITHDRAWN</td>\n",
       "      <td>05-12-16</td>\n",
       "      <td>05-12-16</td>\n",
       "      <td>H-1B</td>\n",
       "      <td>12-12-16</td>\n",
       "      <td>30-06-19</td>\n",
       "      <td>FUTURETECH CONSULTANTS, L.L.C</td>\n",
       "      <td>GA</td>\n",
       "      <td>30092</td>\n",
       "      <td>PROGRAMMER ANALYST</td>\n",
       "      <td>15-1131</td>\n",
       "      <td>COMPUTER PROGRAMMERS</td>\n",
       "      <td>541511</td>\n",
       "      <td>60341</td>\n",
       "      <td>Custom Computer Programming Services</td>\n",
       "    </tr>\n",
       "    <tr>\n",
       "      <th>2</th>\n",
       "      <td>I-200-13070-034520</td>\n",
       "      <td>WITHDRAWN</td>\n",
       "      <td>11-03-13</td>\n",
       "      <td>14-10-16</td>\n",
       "      <td>H-1B</td>\n",
       "      <td>02-09-13</td>\n",
       "      <td>01-09-16</td>\n",
       "      <td>ARKSTEK, INC.</td>\n",
       "      <td>CO</td>\n",
       "      <td>80014</td>\n",
       "      <td>PROGRAMMER ANALYST</td>\n",
       "      <td>15-1131</td>\n",
       "      <td>COMPUTER PROGRAMMERS</td>\n",
       "      <td>541511</td>\n",
       "      <td>46072</td>\n",
       "      <td>Custom Computer Programming Services</td>\n",
       "    </tr>\n",
       "    <tr>\n",
       "      <th>3</th>\n",
       "      <td>I-200-13197-156587</td>\n",
       "      <td>CERTIFIED-WITHDRAWN</td>\n",
       "      <td>17-07-13</td>\n",
       "      <td>04-10-16</td>\n",
       "      <td>H-1B</td>\n",
       "      <td>07-11-13</td>\n",
       "      <td>06-11-16</td>\n",
       "      <td>PRAMATI TECHNOLOGIES PRIVATE LIMITED</td>\n",
       "      <td>CA</td>\n",
       "      <td>94040</td>\n",
       "      <td>SOFTWARE ENGINEER</td>\n",
       "      <td>15-1799</td>\n",
       "      <td>COMPUTER OCCUPATIONS, ALL OTHER*</td>\n",
       "      <td>541511</td>\n",
       "      <td>69056</td>\n",
       "      <td>Custom Computer Programming Services</td>\n",
       "    </tr>\n",
       "    <tr>\n",
       "      <th>4</th>\n",
       "      <td>I-200-13261-383214</td>\n",
       "      <td>WITHDRAWN</td>\n",
       "      <td>27-09-13</td>\n",
       "      <td>18-11-16</td>\n",
       "      <td>H-1B</td>\n",
       "      <td>27-03-14</td>\n",
       "      <td>26-03-17</td>\n",
       "      <td>NETAPP, INC.</td>\n",
       "      <td>CA</td>\n",
       "      <td>94089</td>\n",
       "      <td>MEMBER TECHNICAL STAFF, QUALITY ASSURANCE</td>\n",
       "      <td>15-1133</td>\n",
       "      <td>SOFTWARE DEVELOPERS, SYSTEMS SOFTWARE</td>\n",
       "      <td>541511</td>\n",
       "      <td>110094</td>\n",
       "      <td>Custom Computer Programming Services</td>\n",
       "    </tr>\n",
       "  </tbody>\n",
       "</table>\n",
       "</div>"
      ],
      "text/plain": [
       "          CASE_NUMBER          CASE_STATUS CASE_SUBMITTED DECISION_DATE  \\\n",
       "0  I-200-09209-039181            CERTIFIED       27-09-16      03-10-16   \n",
       "1  I-200-11045-306092            WITHDRAWN       05-12-16      05-12-16   \n",
       "2  I-200-13070-034520            WITHDRAWN       11-03-13      14-10-16   \n",
       "3  I-200-13197-156587  CERTIFIED-WITHDRAWN       17-07-13      04-10-16   \n",
       "4  I-200-13261-383214            WITHDRAWN       27-09-13      18-11-16   \n",
       "\n",
       "  VISA_CLASS EMPLOYMENT_START_DATE EMPLOYMENT_END_DATE  \\\n",
       "0       H-1B              01-10-16            20-09-19   \n",
       "1       H-1B              12-12-16            30-06-19   \n",
       "2       H-1B              02-09-13            01-09-16   \n",
       "3       H-1B              07-11-13            06-11-16   \n",
       "4       H-1B              27-03-14            26-03-17   \n",
       "\n",
       "                          EMPLOYER_NAME EMPLOYER_STATE EMPLOYER_POSTAL_CODE  \\\n",
       "0           CLOUDWICK TECHNOLOGIES INC.             CA                94560   \n",
       "1         FUTURETECH CONSULTANTS, L.L.C             GA                30092   \n",
       "2                         ARKSTEK, INC.             CO                80014   \n",
       "3  PRAMATI TECHNOLOGIES PRIVATE LIMITED             CA                94040   \n",
       "4                          NETAPP, INC.             CA                94089   \n",
       "\n",
       "                                   JOB_TITLE SOC_CODE  \\\n",
       "0                       HADOOP ADMINISTRATOR  15-1132   \n",
       "1                         PROGRAMMER ANALYST  15-1131   \n",
       "2                         PROGRAMMER ANALYST  15-1131   \n",
       "3                          SOFTWARE ENGINEER  15-1799   \n",
       "4  MEMBER TECHNICAL STAFF, QUALITY ASSURANCE  15-1133   \n",
       "\n",
       "                                SOC_NAME  NAICS_CODE  PREVAILING_WAGE  \\\n",
       "0      SOFTWARE DEVELOPERS, APPLICATIONS      541511           102149   \n",
       "1                   COMPUTER PROGRAMMERS      541511            60341   \n",
       "2                   COMPUTER PROGRAMMERS      541511            46072   \n",
       "3       COMPUTER OCCUPATIONS, ALL OTHER*      541511            69056   \n",
       "4  SOFTWARE DEVELOPERS, SYSTEMS SOFTWARE      541511           110094   \n",
       "\n",
       "                            NAICS_TITLE  \n",
       "0  Custom Computer Programming Services  \n",
       "1  Custom Computer Programming Services  \n",
       "2  Custom Computer Programming Services  \n",
       "3  Custom Computer Programming Services  \n",
       "4  Custom Computer Programming Services  "
      ]
     },
     "execution_count": 36,
     "metadata": {},
     "output_type": "execute_result"
    }
   ],
   "source": [
    "# Explore merged dataset\n",
    "visas_by_industry.head()"
   ]
  },
  {
   "cell_type": "code",
   "execution_count": 37,
   "metadata": {
    "jupyter": {
     "outputs_hidden": false
    }
   },
   "outputs": [
    {
     "data": {
      "text/html": [
       "<div>\n",
       "<style scoped>\n",
       "    .dataframe tbody tr th:only-of-type {\n",
       "        vertical-align: middle;\n",
       "    }\n",
       "\n",
       "    .dataframe tbody tr th {\n",
       "        vertical-align: top;\n",
       "    }\n",
       "\n",
       "    .dataframe thead th {\n",
       "        text-align: right;\n",
       "    }\n",
       "</style>\n",
       "<table border=\"1\" class=\"dataframe\">\n",
       "  <thead>\n",
       "    <tr style=\"text-align: right;\">\n",
       "      <th></th>\n",
       "      <th>Industry</th>\n",
       "      <th>Quantity</th>\n",
       "    </tr>\n",
       "  </thead>\n",
       "  <tbody>\n",
       "    <tr>\n",
       "      <th>227</th>\n",
       "      <td>Custom Computer Programming Services</td>\n",
       "      <td>31941</td>\n",
       "    </tr>\n",
       "    <tr>\n",
       "      <th>194</th>\n",
       "      <td>Computer Systems Design and Related Services</td>\n",
       "      <td>6742</td>\n",
       "    </tr>\n",
       "    <tr>\n",
       "      <th>193</th>\n",
       "      <td>Computer Systems Design Services</td>\n",
       "      <td>5311</td>\n",
       "    </tr>\n",
       "    <tr>\n",
       "      <th>174</th>\n",
       "      <td>Colleges, Universities, and Professional Schools</td>\n",
       "      <td>5298</td>\n",
       "    </tr>\n",
       "    <tr>\n",
       "      <th>489</th>\n",
       "      <td>Management, Scientific, and Technical Consulti...</td>\n",
       "      <td>3689</td>\n",
       "    </tr>\n",
       "  </tbody>\n",
       "</table>\n",
       "</div>"
      ],
      "text/plain": [
       "                                              Industry  Quantity\n",
       "227               Custom Computer Programming Services     31941\n",
       "194       Computer Systems Design and Related Services      6742\n",
       "193                   Computer Systems Design Services      5311\n",
       "174   Colleges, Universities, and Professional Schools      5298\n",
       "489  Management, Scientific, and Technical Consulti...      3689"
      ]
     },
     "execution_count": 37,
     "metadata": {},
     "output_type": "execute_result"
    }
   ],
   "source": [
    "# Group the visas by industry\n",
    "visas_gr_by_industry = visas_by_industry[['NAICS_TITLE','NAICS_CODE']].groupby('NAICS_TITLE').agg('count').reset_index().sort_values(by='NAICS_CODE', ascending=False)\n",
    "\n",
    "# Rename the colunms\n",
    "visas_gr_by_industry.columns = ['Industry','Quantity']\n",
    "\n",
    "# Explore the dataset\n",
    "visas_gr_by_industry.head()"
   ]
  },
  {
   "cell_type": "code",
   "execution_count": 38,
   "metadata": {
    "jupyter": {
     "outputs_hidden": false
    }
   },
   "outputs": [
    {
     "data": {
      "text/plain": [
       "157.0"
      ]
     },
     "execution_count": 38,
     "metadata": {},
     "output_type": "execute_result"
    }
   ],
   "source": [
    "# Calculate the 95th percentile\n",
    "top_95_percentile = np.percentile(a = visas_gr_by_industry.Quantity, q = 95)\n",
    "\n",
    "top_95_percentile"
   ]
  },
  {
   "cell_type": "code",
   "execution_count": 39,
   "metadata": {
    "jupyter": {
     "outputs_hidden": false
    }
   },
   "outputs": [
    {
     "data": {
      "text/html": [
       "<div>\n",
       "<style scoped>\n",
       "    .dataframe tbody tr th:only-of-type {\n",
       "        vertical-align: middle;\n",
       "    }\n",
       "\n",
       "    .dataframe tbody tr th {\n",
       "        vertical-align: top;\n",
       "    }\n",
       "\n",
       "    .dataframe thead th {\n",
       "        text-align: right;\n",
       "    }\n",
       "</style>\n",
       "<table border=\"1\" class=\"dataframe\">\n",
       "  <thead>\n",
       "    <tr style=\"text-align: right;\">\n",
       "      <th></th>\n",
       "      <th>Industry</th>\n",
       "      <th>Quantity</th>\n",
       "    </tr>\n",
       "  </thead>\n",
       "  <tbody>\n",
       "    <tr>\n",
       "      <th>227</th>\n",
       "      <td>Custom Computer Programming Services</td>\n",
       "      <td>31941</td>\n",
       "    </tr>\n",
       "    <tr>\n",
       "      <th>194</th>\n",
       "      <td>Computer Systems Design and Related Services</td>\n",
       "      <td>6742</td>\n",
       "    </tr>\n",
       "    <tr>\n",
       "      <th>193</th>\n",
       "      <td>Computer Systems Design Services</td>\n",
       "      <td>5311</td>\n",
       "    </tr>\n",
       "    <tr>\n",
       "      <th>174</th>\n",
       "      <td>Colleges, Universities, and Professional Schools</td>\n",
       "      <td>5298</td>\n",
       "    </tr>\n",
       "    <tr>\n",
       "      <th>489</th>\n",
       "      <td>Management, Scientific, and Technical Consulti...</td>\n",
       "      <td>3689</td>\n",
       "    </tr>\n",
       "    <tr>\n",
       "      <th>876</th>\n",
       "      <td>Software Publishers</td>\n",
       "      <td>2640</td>\n",
       "    </tr>\n",
       "    <tr>\n",
       "      <th>636</th>\n",
       "      <td>Other Computer Related Services</td>\n",
       "      <td>1855</td>\n",
       "    </tr>\n",
       "    <tr>\n",
       "      <th>585</th>\n",
       "      <td>Offices of Certified Public Accountants</td>\n",
       "      <td>1476</td>\n",
       "    </tr>\n",
       "    <tr>\n",
       "      <th>296</th>\n",
       "      <td>Engineering Services</td>\n",
       "      <td>1406</td>\n",
       "    </tr>\n",
       "    <tr>\n",
       "      <th>12</th>\n",
       "      <td>Administrative Management and General Manageme...</td>\n",
       "      <td>1270</td>\n",
       "    </tr>\n",
       "    <tr>\n",
       "      <th>283</th>\n",
       "      <td>Electronic Shopping</td>\n",
       "      <td>1254</td>\n",
       "    </tr>\n",
       "    <tr>\n",
       "      <th>368</th>\n",
       "      <td>General Medical and Surgical Hospitals</td>\n",
       "      <td>1145</td>\n",
       "    </tr>\n",
       "    <tr>\n",
       "      <th>441</th>\n",
       "      <td>Investment Banking and Securities Dealing</td>\n",
       "      <td>1088</td>\n",
       "    </tr>\n",
       "    <tr>\n",
       "      <th>487</th>\n",
       "      <td>Management Consulting Services</td>\n",
       "      <td>1082</td>\n",
       "    </tr>\n",
       "    <tr>\n",
       "      <th>845</th>\n",
       "      <td>Scientific Research and Development Services</td>\n",
       "      <td>1053</td>\n",
       "    </tr>\n",
       "    <tr>\n",
       "      <th>0</th>\n",
       "      <td>Accounting, Tax Preparation, Bookkeeping, and ...</td>\n",
       "      <td>777</td>\n",
       "    </tr>\n",
       "    <tr>\n",
       "      <th>281</th>\n",
       "      <td>Electronic Computer Manufacturing</td>\n",
       "      <td>768</td>\n",
       "    </tr>\n",
       "    <tr>\n",
       "      <th>856</th>\n",
       "      <td>Semiconductor and Other Electronic Component M...</td>\n",
       "      <td>598</td>\n",
       "    </tr>\n",
       "    <tr>\n",
       "      <th>177</th>\n",
       "      <td>Commercial Banking</td>\n",
       "      <td>582</td>\n",
       "    </tr>\n",
       "    <tr>\n",
       "      <th>235</th>\n",
       "      <td>Data Processing, Hosting and Related Services</td>\n",
       "      <td>581</td>\n",
       "    </tr>\n",
       "    <tr>\n",
       "      <th>595</th>\n",
       "      <td>Offices of Physicians (except Mental Health Sp...</td>\n",
       "      <td>474</td>\n",
       "    </tr>\n",
       "    <tr>\n",
       "      <th>288</th>\n",
       "      <td>Elementary and Secondary Schools</td>\n",
       "      <td>468</td>\n",
       "    </tr>\n",
       "    <tr>\n",
       "      <th>220</th>\n",
       "      <td>Credit Card Issuing</td>\n",
       "      <td>462</td>\n",
       "    </tr>\n",
       "    <tr>\n",
       "      <th>236</th>\n",
       "      <td>Data Processing, Hosting, and Related Services</td>\n",
       "      <td>460</td>\n",
       "    </tr>\n",
       "    <tr>\n",
       "      <th>592</th>\n",
       "      <td>Offices of Other Holding Companies</td>\n",
       "      <td>448</td>\n",
       "    </tr>\n",
       "    <tr>\n",
       "      <th>765</th>\n",
       "      <td>Portfolio Management</td>\n",
       "      <td>441</td>\n",
       "    </tr>\n",
       "    <tr>\n",
       "      <th>316</th>\n",
       "      <td>Financial Transactions Processing, Reserve, an...</td>\n",
       "      <td>440</td>\n",
       "    </tr>\n",
       "    <tr>\n",
       "      <th>857</th>\n",
       "      <td>Semiconductor and Related Device Manufacturing</td>\n",
       "      <td>404</td>\n",
       "    </tr>\n",
       "    <tr>\n",
       "      <th>65</th>\n",
       "      <td>All Other Professional, Scientific, and Techni...</td>\n",
       "      <td>376</td>\n",
       "    </tr>\n",
       "    <tr>\n",
       "      <th>801</th>\n",
       "      <td>Radio and Television Broadcasting and Wireless...</td>\n",
       "      <td>370</td>\n",
       "    </tr>\n",
       "    <tr>\n",
       "      <th>247</th>\n",
       "      <td>Direct Health and Medical Insurance Carriers</td>\n",
       "      <td>333</td>\n",
       "    </tr>\n",
       "    <tr>\n",
       "      <th>697</th>\n",
       "      <td>Other Scientific and Technical Consulting Serv...</td>\n",
       "      <td>315</td>\n",
       "    </tr>\n",
       "    <tr>\n",
       "      <th>493</th>\n",
       "      <td>Marketing Consulting Services</td>\n",
       "      <td>314</td>\n",
       "    </tr>\n",
       "    <tr>\n",
       "      <th>593</th>\n",
       "      <td>Offices of Physical, Occupational and Speech T...</td>\n",
       "      <td>311</td>\n",
       "    </tr>\n",
       "    <tr>\n",
       "      <th>824</th>\n",
       "      <td>Research and Development in the Physical, Engi...</td>\n",
       "      <td>304</td>\n",
       "    </tr>\n",
       "    <tr>\n",
       "      <th>932</th>\n",
       "      <td>Temporary Help Services</td>\n",
       "      <td>298</td>\n",
       "    </tr>\n",
       "    <tr>\n",
       "      <th>104</th>\n",
       "      <td>Automobile Manufacturing</td>\n",
       "      <td>234</td>\n",
       "    </tr>\n",
       "    <tr>\n",
       "      <th>13</th>\n",
       "      <td>Advertising Agencies</td>\n",
       "      <td>231</td>\n",
       "    </tr>\n",
       "    <tr>\n",
       "      <th>669</th>\n",
       "      <td>Other Information Services</td>\n",
       "      <td>206</td>\n",
       "    </tr>\n",
       "    <tr>\n",
       "      <th>279</th>\n",
       "      <td>Electronic Auctions</td>\n",
       "      <td>205</td>\n",
       "    </tr>\n",
       "    <tr>\n",
       "      <th>41</th>\n",
       "      <td>All Other Information Services</td>\n",
       "      <td>203</td>\n",
       "    </tr>\n",
       "    <tr>\n",
       "      <th>675</th>\n",
       "      <td>Other Management Consulting Services</td>\n",
       "      <td>187</td>\n",
       "    </tr>\n",
       "    <tr>\n",
       "      <th>440</th>\n",
       "      <td>Investment Advice</td>\n",
       "      <td>185</td>\n",
       "    </tr>\n",
       "    <tr>\n",
       "      <th>588</th>\n",
       "      <td>Offices of Lawyers</td>\n",
       "      <td>182</td>\n",
       "    </tr>\n",
       "    <tr>\n",
       "      <th>823</th>\n",
       "      <td>Research and Development in the Physical, Engi...</td>\n",
       "      <td>174</td>\n",
       "    </tr>\n",
       "    <tr>\n",
       "      <th>887</th>\n",
       "      <td>Specialty (except Psychiatric and Substance Ab...</td>\n",
       "      <td>173</td>\n",
       "    </tr>\n",
       "    <tr>\n",
       "      <th>744</th>\n",
       "      <td>Pharmacies and Drug Stores</td>\n",
       "      <td>172</td>\n",
       "    </tr>\n",
       "    <tr>\n",
       "      <th>822</th>\n",
       "      <td>Research and Development in Biotechnology</td>\n",
       "      <td>169</td>\n",
       "    </tr>\n",
       "    <tr>\n",
       "      <th>252</th>\n",
       "      <td>Direct Property and Casualty Insurance Carriers</td>\n",
       "      <td>164</td>\n",
       "    </tr>\n",
       "    <tr>\n",
       "      <th>521</th>\n",
       "      <td>Miscellaneous Financial Investment Activities</td>\n",
       "      <td>161</td>\n",
       "    </tr>\n",
       "    <tr>\n",
       "      <th>255</th>\n",
       "      <td>Discount Department Stores</td>\n",
       "      <td>157</td>\n",
       "    </tr>\n",
       "  </tbody>\n",
       "</table>\n",
       "</div>"
      ],
      "text/plain": [
       "                                              Industry  Quantity\n",
       "227               Custom Computer Programming Services     31941\n",
       "194       Computer Systems Design and Related Services      6742\n",
       "193                   Computer Systems Design Services      5311\n",
       "174   Colleges, Universities, and Professional Schools      5298\n",
       "489  Management, Scientific, and Technical Consulti...      3689\n",
       "876                                Software Publishers      2640\n",
       "636                    Other Computer Related Services      1855\n",
       "585            Offices of Certified Public Accountants      1476\n",
       "296                               Engineering Services      1406\n",
       "12   Administrative Management and General Manageme...      1270\n",
       "283                                Electronic Shopping      1254\n",
       "368             General Medical and Surgical Hospitals      1145\n",
       "441          Investment Banking and Securities Dealing      1088\n",
       "487                     Management Consulting Services      1082\n",
       "845       Scientific Research and Development Services      1053\n",
       "0    Accounting, Tax Preparation, Bookkeeping, and ...       777\n",
       "281                  Electronic Computer Manufacturing       768\n",
       "856  Semiconductor and Other Electronic Component M...       598\n",
       "177                                 Commercial Banking       582\n",
       "235      Data Processing, Hosting and Related Services       581\n",
       "595  Offices of Physicians (except Mental Health Sp...       474\n",
       "288                   Elementary and Secondary Schools       468\n",
       "220                                Credit Card Issuing       462\n",
       "236     Data Processing, Hosting, and Related Services       460\n",
       "592                 Offices of Other Holding Companies       448\n",
       "765                               Portfolio Management       441\n",
       "316  Financial Transactions Processing, Reserve, an...       440\n",
       "857     Semiconductor and Related Device Manufacturing       404\n",
       "65   All Other Professional, Scientific, and Techni...       376\n",
       "801  Radio and Television Broadcasting and Wireless...       370\n",
       "247       Direct Health and Medical Insurance Carriers       333\n",
       "697  Other Scientific and Technical Consulting Serv...       315\n",
       "493                      Marketing Consulting Services       314\n",
       "593  Offices of Physical, Occupational and Speech T...       311\n",
       "824  Research and Development in the Physical, Engi...       304\n",
       "932                            Temporary Help Services       298\n",
       "104                           Automobile Manufacturing       234\n",
       "13                                Advertising Agencies       231\n",
       "669                         Other Information Services       206\n",
       "279                                Electronic Auctions       205\n",
       "41                      All Other Information Services       203\n",
       "675               Other Management Consulting Services       187\n",
       "440                                  Investment Advice       185\n",
       "588                                 Offices of Lawyers       182\n",
       "823  Research and Development in the Physical, Engi...       174\n",
       "887  Specialty (except Psychiatric and Substance Ab...       173\n",
       "744                         Pharmacies and Drug Stores       172\n",
       "822          Research and Development in Biotechnology       169\n",
       "252    Direct Property and Casualty Insurance Carriers       164\n",
       "521      Miscellaneous Financial Investment Activities       161\n",
       "255                         Discount Department Stores       157"
      ]
     },
     "execution_count": 39,
     "metadata": {},
     "output_type": "execute_result"
    }
   ],
   "source": [
    "# Filter just the top 5 percentile\n",
    "visas_gr_by_industry[visas_gr_by_industry.Quantity >=  top_95_percentile]"
   ]
  },
  {
   "cell_type": "markdown",
   "metadata": {},
   "source": [
    "### Question 6 - Does the month of application play any role in to denied process? What about decision dates?"
   ]
  },
  {
   "cell_type": "code",
   "execution_count": 40,
   "metadata": {
    "jupyter": {
     "outputs_hidden": false
    }
   },
   "outputs": [],
   "source": [
    "# Filter just the dates of denied visas\n",
    "denied_visas = visas[['CASE_NUMBER','CASE_SUBMITTED', 'DECISION_DATE']][visas.CASE_STATUS == 'DENIED']\n",
    "\n",
    "# Extract the month from both dates\n",
    "denied_visas['Month_submitted'] =  pd.DatetimeIndex( denied_visas.CASE_SUBMITTED).month\n",
    "denied_visas['Month_decision'] =  pd.DatetimeIndex( denied_visas.DECISION_DATE).month"
   ]
  },
  {
   "cell_type": "code",
   "execution_count": 41,
   "metadata": {
    "jupyter": {
     "outputs_hidden": false
    }
   },
   "outputs": [
    {
     "data": {
      "text/html": [
       "<div>\n",
       "<style scoped>\n",
       "    .dataframe tbody tr th:only-of-type {\n",
       "        vertical-align: middle;\n",
       "    }\n",
       "\n",
       "    .dataframe tbody tr th {\n",
       "        vertical-align: top;\n",
       "    }\n",
       "\n",
       "    .dataframe thead th {\n",
       "        text-align: right;\n",
       "    }\n",
       "</style>\n",
       "<table border=\"1\" class=\"dataframe\">\n",
       "  <thead>\n",
       "    <tr style=\"text-align: right;\">\n",
       "      <th></th>\n",
       "      <th>CASE_NUMBER</th>\n",
       "      <th>CASE_SUBMITTED</th>\n",
       "      <th>DECISION_DATE</th>\n",
       "      <th>Month_submitted</th>\n",
       "      <th>Month_decision</th>\n",
       "    </tr>\n",
       "  </thead>\n",
       "  <tbody>\n",
       "    <tr>\n",
       "      <th>1881</th>\n",
       "      <td>I-200-14311-284928</td>\n",
       "      <td>20-12-16</td>\n",
       "      <td>22-12-16</td>\n",
       "      <td>12</td>\n",
       "      <td>12</td>\n",
       "    </tr>\n",
       "    <tr>\n",
       "      <th>2533</th>\n",
       "      <td>I-200-15060-565396</td>\n",
       "      <td>29-09-16</td>\n",
       "      <td>03-10-16</td>\n",
       "      <td>9</td>\n",
       "      <td>3</td>\n",
       "    </tr>\n",
       "    <tr>\n",
       "      <th>3556</th>\n",
       "      <td>I-200-15139-183403</td>\n",
       "      <td>05-10-16</td>\n",
       "      <td>07-10-16</td>\n",
       "      <td>5</td>\n",
       "      <td>7</td>\n",
       "    </tr>\n",
       "    <tr>\n",
       "      <th>4179</th>\n",
       "      <td>I-200-15251-717050</td>\n",
       "      <td>12-12-16</td>\n",
       "      <td>14-12-16</td>\n",
       "      <td>12</td>\n",
       "      <td>12</td>\n",
       "    </tr>\n",
       "    <tr>\n",
       "      <th>6754</th>\n",
       "      <td>I-200-16075-799719</td>\n",
       "      <td>15-11-16</td>\n",
       "      <td>17-11-16</td>\n",
       "      <td>11</td>\n",
       "      <td>11</td>\n",
       "    </tr>\n",
       "  </tbody>\n",
       "</table>\n",
       "</div>"
      ],
      "text/plain": [
       "             CASE_NUMBER CASE_SUBMITTED DECISION_DATE  Month_submitted  \\\n",
       "1881  I-200-14311-284928       20-12-16      22-12-16               12   \n",
       "2533  I-200-15060-565396       29-09-16      03-10-16                9   \n",
       "3556  I-200-15139-183403       05-10-16      07-10-16                5   \n",
       "4179  I-200-15251-717050       12-12-16      14-12-16               12   \n",
       "6754  I-200-16075-799719       15-11-16      17-11-16               11   \n",
       "\n",
       "      Month_decision  \n",
       "1881              12  \n",
       "2533               3  \n",
       "3556               7  \n",
       "4179              12  \n",
       "6754              11  "
      ]
     },
     "execution_count": 41,
     "metadata": {},
     "output_type": "execute_result"
    }
   ],
   "source": [
    "# Explore the dataset\n",
    "denied_visas.head()"
   ]
  },
  {
   "cell_type": "code",
   "execution_count": 42,
   "metadata": {
    "jupyter": {
     "outputs_hidden": false
    }
   },
   "outputs": [],
   "source": [
    "# Group by month of submitted dates\n",
    "denied_visas_gr_by_month_sub = denied_visas[['Month_submitted','CASE_NUMBER']].groupby('Month_submitted').agg('count').reset_index().sort_values(by='Month_submitted', ascending=True)\n",
    "\n",
    "# Group by month of decision dates\n",
    "denied_visas_gr_by_month_dec = denied_visas[['Month_decision','CASE_NUMBER']].groupby('Month_decision').agg('count').reset_index().sort_values(by='Month_decision', ascending=True)\n",
    "\n",
    "# Change the column names\n",
    "denied_visas_gr_by_month_sub.columns = ['Month','Quantity']\n",
    "denied_visas_gr_by_month_dec.columns = ['Month','Quantity']"
   ]
  },
  {
   "cell_type": "code",
   "execution_count": 43,
   "metadata": {
    "jupyter": {
     "outputs_hidden": false
    }
   },
   "outputs": [
    {
     "data": {
      "text/plain": [
       "<AxesSubplot:xlabel='Month', ylabel='Quantity'>"
      ]
     },
     "execution_count": 43,
     "metadata": {},
     "output_type": "execute_result"
    },
    {
     "data": {
      "image/png": "[encoded data removed]",
      "text/plain": [
       "<Figure size 432x288 with 1 Axes>"
      ]
     },
     "metadata": {
      "needs_background": "light"
     },
     "output_type": "display_data"
    }
   ],
   "source": [
    "# Plot the result\n",
    "sns.barplot(x='Month', y='Quantity', data=denied_visas_gr_by_month_sub)"
   ]
  },
  {
   "cell_type": "code",
   "execution_count": 44,
   "metadata": {
    "jupyter": {
     "outputs_hidden": false
    }
   },
   "outputs": [
    {
     "data": {
      "text/plain": [
       "<AxesSubplot:xlabel='Month', ylabel='Quantity'>"
      ]
     },
     "execution_count": 44,
     "metadata": {},
     "output_type": "execute_result"
    },
    {
     "data": {
      "image/png": "[encoded data removed]",
      "text/plain": [
       "<Figure size 432x288 with 1 Axes>"
      ]
     },
     "metadata": {
      "needs_background": "light"
     },
     "output_type": "display_data"
    }
   ],
   "source": [
    "# Plot the result\n",
    "sns.barplot(x='Month', y='Quantity', data=denied_visas_gr_by_month_dec)"
   ]
  }
 ],
 "metadata": {
  "anaconda-cloud": {},
  "kernelspec": {
   "display_name": "Python 3",
   "language": "python",
   "name": "python3"
  },
  "language_info": {
   "codemirror_mode": {
    "name": "ipython",
    "version": 3
   },
   "file_extension": ".py",
   "mimetype": "text/x-python",
   "name": "python",
   "nbconvert_exporter": "python",
   "pygments_lexer": "ipython3",
   "version": "3.8.8"
  }
 },
 "nbformat": 4,
 "nbformat_minor": 4
}
